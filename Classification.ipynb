{
 "cells": [
  {
   "cell_type": "code",
   "execution_count": 389,
   "metadata": {},
   "outputs": [],
   "source": [
    "import os\n",
    "import pandas as pd\n",
    "import numpy as np\n",
    "import seaborn as sns\n",
    "import random\n",
    "from sklearn.metrics import f1_score\n",
    "from sklearn.metrics import accuracy_score\n",
    "from sklearn.linear_model import LogisticRegression\n",
    "from sklearn import svm\n",
    "from sklearn.svm import SVC\n",
    "from sklearn.neighbors import KNeighborsClassifier\n",
    "import warnings\n",
    "warnings.simplefilter(\"ignore\")"
   ]
  },
  {
   "cell_type": "code",
   "execution_count": 8,
   "metadata": {},
   "outputs": [],
   "source": [
    "df = pd.read_csv('wvs.csv',sep='\\t')"
   ]
  },
  {
   "cell_type": "markdown",
   "metadata": {},
   "source": [
    "## Provided Information:\n",
    "\n",
    "###### We are using Wave 6 data: 2013-2014\n",
    "###### Not all countries are participating in each wave.\n",
    "###### In this problem set we focus on what the respondents think about abortion (V204), I_ABORTLIB (Emancipative Value)"
   ]
  },
  {
   "cell_type": "markdown",
   "metadata": {},
   "source": [
    "### 1 Explore and prepare the data\n",
    "###### 1. Load the data. How many responses and variables do we have?"
   ]
  },
  {
   "cell_type": "code",
   "execution_count": 21,
   "metadata": {},
   "outputs": [
    {
     "name": "stdout",
     "output_type": "stream",
     "text": [
      "There are: 90350 responses and 328 variables\n"
     ]
    }
   ],
   "source": [
    "print(\"There are:\",df.shape[0], \"responses and\",df.shape[1],\"variables\")"
   ]
  },
  {
   "cell_type": "markdown",
   "metadata": {},
   "source": [
    "###### 2. Create a summary table over all responses for V204 : is abortion justifiable. How many nonmissing responses (i.e. positive answers) do you find? Describe the the opinion about the abortion among the global pool of respondents."
   ]
  },
  {
   "cell_type": "code",
   "execution_count": 28,
   "metadata": {},
   "outputs": [],
   "source": [
    "# Replacing the negative values with 0. 0 will represent missing values\n",
    "df['V204'] = [0 if x<0 else x for x in df['V204']]"
   ]
  },
  {
   "cell_type": "code",
   "execution_count": 30,
   "metadata": {
    "scrolled": true
   },
   "outputs": [
    {
     "data": {
      "text/plain": [
       "<matplotlib.axes._subplots.AxesSubplot at 0x1a1b941dd0>"
      ]
     },
     "execution_count": 30,
     "metadata": {},
     "output_type": "execute_result"
    },
    {
     "data": {
      "image/png": "[encoded data removed]",
      "text/plain": [
       "<Figure size 432x288 with 1 Axes>"
      ]
     },
     "metadata": {
      "needs_background": "light"
     },
     "output_type": "display_data"
    }
   ],
   "source": [
    "df['V204'].plot(kind='hist')"
   ]
  },
  {
   "cell_type": "markdown",
   "metadata": {},
   "source": [
    "###### Summary Table"
   ]
  },
  {
   "cell_type": "code",
   "execution_count": 34,
   "metadata": {
    "scrolled": true
   },
   "outputs": [
    {
     "name": "stdout",
     "output_type": "stream",
     "text": [
      "1     40227\n",
      "5      9580\n",
      "2      7896\n",
      "3      6294\n",
      "0      4608\n",
      "4      4497\n",
      "6      4395\n",
      "10     4067\n",
      "7      3493\n",
      "8      3397\n",
      "9      1896\n",
      "Name: V204, dtype: int64\n"
     ]
    }
   ],
   "source": [
    "print(pd.value_counts(df['V204']))"
   ]
  },
  {
   "cell_type": "markdown",
   "metadata": {},
   "source": [
    "###### Non-missing responses (i.e. positive answers)"
   ]
  },
  {
   "cell_type": "code",
   "execution_count": 41,
   "metadata": {},
   "outputs": [
    {
     "data": {
      "text/plain": [
       "True     85742\n",
       "False     4608\n",
       "Name: V204, dtype: int64"
      ]
     },
     "execution_count": 41,
     "metadata": {},
     "output_type": "execute_result"
    }
   ],
   "source": [
    "# Values that are non-missing. \n",
    "pd.value_counts(df['V204']>0)\n",
    "# 85742 values are non-missing"
   ]
  },
  {
   "cell_type": "markdown",
   "metadata": {},
   "source": [
    "######  (3) Now remove missings\n",
    "###### (a) remove everything that are not positive integers for V204 and V2 (country)"
   ]
  },
  {
   "cell_type": "code",
   "execution_count": 52,
   "metadata": {},
   "outputs": [],
   "source": [
    "df_new = df[(df['V204']>0) & (df['V2']>0)]"
   ]
  },
  {
   "cell_type": "markdown",
   "metadata": {},
   "source": [
    "###### (b) ) for all other variables, remove the missings in the sense of missing value on computer. You may leave negative answers in the data, otherwise I am afraid your sample size collapses. What is the final number of observations?"
   ]
  },
  {
   "cell_type": "code",
   "execution_count": 54,
   "metadata": {
    "scrolled": true
   },
   "outputs": [
    {
     "name": "stdout",
     "output_type": "stream",
     "text": [
      "Final number of observations:  79267\n"
     ]
    },
    {
     "name": "stderr",
     "output_type": "stream",
     "text": [
      "/Users/saransharora/opt/anaconda3/lib/python3.7/site-packages/ipykernel_launcher.py:1: SettingWithCopyWarning: \n",
      "A value is trying to be set on a copy of a slice from a DataFrame\n",
      "\n",
      "See the caveats in the documentation: http://pandas.pydata.org/pandas-docs/stable/user_guide/indexing.html#returning-a-view-versus-a-copy\n",
      "  \"\"\"Entry point for launching an IPython kernel.\n"
     ]
    }
   ],
   "source": [
    "df_new.dropna(inplace=True)\n",
    "print(\"Final number of observations: \", len(df_new))"
   ]
  },
  {
   "cell_type": "markdown",
   "metadata": {},
   "source": [
    "###### (4) In order to simplify the analysis below, create a new binary variable abortion as abortion =>  1: V204 > 3, 0: otherwise"
   ]
  },
  {
   "cell_type": "code",
   "execution_count": 56,
   "metadata": {},
   "outputs": [
    {
     "name": "stderr",
     "output_type": "stream",
     "text": [
      "/Users/saransharora/opt/anaconda3/lib/python3.7/site-packages/ipykernel_launcher.py:1: SettingWithCopyWarning: \n",
      "A value is trying to be set on a copy of a slice from a DataFrame.\n",
      "Try using .loc[row_indexer,col_indexer] = value instead\n",
      "\n",
      "See the caveats in the documentation: http://pandas.pydata.org/pandas-docs/stable/user_guide/indexing.html#returning-a-view-versus-a-copy\n",
      "  \"\"\"Entry point for launching an IPython kernel.\n"
     ]
    }
   ],
   "source": [
    "df_new['V204'] = [1 if x>3 else 0 for x in df_new['V204']]"
   ]
  },
  {
   "cell_type": "markdown",
   "metadata": {},
   "source": [
    "###### (5) Compute (pearson) correlation table between abortion and all other variables in the data."
   ]
  },
  {
   "cell_type": "code",
   "execution_count": 92,
   "metadata": {},
   "outputs": [],
   "source": [
    "#Taking minimum values as 50000 to avoid confusion. \n",
    "df_corr = df_new.corr(min_periods=20000).V204"
   ]
  },
  {
   "cell_type": "code",
   "execution_count": 93,
   "metadata": {},
   "outputs": [],
   "source": [
    "df_corr = pd.DataFrame(data = df_corr.values, index = df_corr.index, columns = ['Pearson_Correlation'])"
   ]
  },
  {
   "cell_type": "code",
   "execution_count": 95,
   "metadata": {},
   "outputs": [],
   "source": [
    "df_corr.sort_values(by='Pearson_Correlation', ascending=False, inplace=True)"
   ]
  },
  {
   "cell_type": "code",
   "execution_count": 97,
   "metadata": {},
   "outputs": [
    {
     "name": "stdout",
     "output_type": "stream",
     "text": [
      "20 most correlated variables:\n",
      "\n",
      "            Pearson_Correlation\n",
      "V204                   1.000000\n",
      "V205                   0.548653\n",
      "V203                   0.485419\n",
      "V206                   0.446394\n",
      "V207                   0.418271\n",
      "V9                     0.314117\n",
      "V203A                  0.291576\n",
      "V146                   0.272220\n",
      "V210                   0.257035\n",
      "V19                    0.249042\n",
      "V202                   0.246232\n",
      "V145                   0.243545\n",
      "V200                   0.239010\n",
      "V147                   0.224269\n",
      "I_RELIGBEL             0.217138\n",
      "V153                   0.210643\n",
      "V199                   0.204017\n",
      "V185                   0.198473\n",
      "V201                   0.197711\n",
      "V79                    0.197341\n"
     ]
    }
   ],
   "source": [
    "print(\"20 most correlated variables:\\n\")\n",
    "print(df_corr.head(20))"
   ]
  },
  {
   "cell_type": "markdown",
   "metadata": {},
   "source": [
    "###### The top 5 most correlated variables are:\n",
    "\n",
    "###### V205 - Divorse\n",
    "###### V203 - Homosexuality\n",
    "###### V206 - Sex before marriage\n",
    "###### V207 - Suicide\n",
    "###### V9 - Religion"
   ]
  },
  {
   "cell_type": "markdown",
   "metadata": {},
   "source": [
    "###### (6) Convert country code V2 into dummies. First rename V2 to country. "
   ]
  },
  {
   "cell_type": "code",
   "execution_count": 100,
   "metadata": {},
   "outputs": [
    {
     "name": "stderr",
     "output_type": "stream",
     "text": [
      "/Users/saransharora/opt/anaconda3/lib/python3.7/site-packages/pandas/core/frame.py:4223: SettingWithCopyWarning: \n",
      "A value is trying to be set on a copy of a slice from a DataFrame\n",
      "\n",
      "See the caveats in the documentation: http://pandas.pydata.org/pandas-docs/stable/user_guide/indexing.html#returning-a-view-versus-a-copy\n",
      "  return super().rename(**kwargs)\n"
     ]
    }
   ],
   "source": [
    "df_new.rename({'V2':'country'}, axis=1, inplace=True)"
   ]
  },
  {
   "cell_type": "code",
   "execution_count": 105,
   "metadata": {},
   "outputs": [],
   "source": [
    "# Resetting Index\n",
    "df_new.reset_index(drop=True, inplace=True)"
   ]
  },
  {
   "cell_type": "code",
   "execution_count": 106,
   "metadata": {},
   "outputs": [],
   "source": [
    "data_c = pd.get_dummies(df_new.country)"
   ]
  },
  {
   "cell_type": "code",
   "execution_count": 113,
   "metadata": {},
   "outputs": [],
   "source": [
    "# Dropping column to avoid perfect multicollinearity.\n",
    "data_c.drop(labels=[887], axis=1, inplace=True)"
   ]
  },
  {
   "cell_type": "markdown",
   "metadata": {},
   "source": [
    "# 2.  Implement Cross-Validation "
   ]
  },
  {
   "cell_type": "code",
   "execution_count": 457,
   "metadata": {},
   "outputs": [],
   "source": [
    "# Top 21 correlated variables with V204. Removing the first variable V204. Using these 20 variables as features\n",
    "corr_index = df_new.columns.to_list()\n",
    "corr_index.remove('V204')\n",
    "target_index = ['V204']\n",
    "corr_index_1 = corr_index\n",
    "corr_index_1 = corr_index_1.remove('country')"
   ]
  },
  {
   "cell_type": "code",
   "execution_count": 456,
   "metadata": {},
   "outputs": [],
   "source": [
    "def dataframe(data,k, model, corr_index, target_index):\n",
    "    f1_ss = []\n",
    "    accuracy_s = []\n",
    "    for cross in range(k):\n",
    "        ind = data.index.values\n",
    "        random.shuffle(ind)\n",
    "        li_valid = []\n",
    "        for i in range(1,round(len(ind)/k)):\n",
    "            li_valid.append(ind[i*k-1])\n",
    "        li_train = list(set(ind) ^ set(li_valid))\n",
    "        li_train = list(li_test)\n",
    "        validation_df = data.loc[li_valid]\n",
    "        training_df = data.loc[li_train]\n",
    "        try:\n",
    "            train_x = training_df[corr_index]\n",
    "        except:\n",
    "            train_x = training_df[corr_index_1]\n",
    "        train_y = training_df[target_index]\n",
    "        try:\n",
    "            test_x = validation_df[corr_index]\n",
    "        except:\n",
    "            test_x = validation_df[corr_index_1]\n",
    "        test_y = validation_df[target_index]\n",
    "        fitted = model.fit(train_x, train_y)\n",
    "        y_pred = fitted.predict(test_x)\n",
    "        accuracy = accuracy_score(y_pred, test_y)\n",
    "        accuracy_s.append(accuracy)\n",
    "        f1_s = f1_score(test_y, y_pred,average='weighted')\n",
    "        f1_ss.append(f1_s)\n",
    "        \n",
    "    acc_avg = sum(accuracy_s)/len(accuracy_s)\n",
    "    f1_avg = sum(f1_ss)/len(f1_ss)\n",
    "        \n",
    "    return f1_avg, acc_avg\n",
    "        \n",
    "        "
   ]
  },
  {
   "cell_type": "markdown",
   "metadata": {},
   "source": [
    "# 3. Best Fit Model"
   ]
  },
  {
   "cell_type": "markdown",
   "metadata": {},
   "source": [
    "### 3.1 k-NN Model (N=3)"
   ]
  },
  {
   "cell_type": "code",
   "execution_count": 435,
   "metadata": {},
   "outputs": [],
   "source": [
    "df_new = df_new[50000:52000]\n",
    "df_new.reset_index(drop=True, inplace=True)"
   ]
  },
  {
   "cell_type": "code",
   "execution_count": 438,
   "metadata": {
    "scrolled": true
   },
   "outputs": [
    {
     "name": "stdout",
     "output_type": "stream",
     "text": [
      "k-NN F1 Score:  0.635624357744007 k-NN Accuracy 0.6155388471177945\n",
      "CPU times: user 283 ms, sys: 17.2 ms, total: 301 ms\n",
      "Wall time: 356 ms\n"
     ]
    }
   ],
   "source": [
    "%%time\n",
    "knn = KNeighborsClassifier(n_neighbors=3)\n",
    "f1_3, acc_3 = dataframe(df_new, 5, knn,  corr_index, target_index)\n",
    "print(\"k-NN F1 Score: \", f1_3, \"k-NN Accuracy\", acc_3)"
   ]
  },
  {
   "cell_type": "markdown",
   "metadata": {},
   "source": [
    "### k-NN Model (N=1)"
   ]
  },
  {
   "cell_type": "code",
   "execution_count": 440,
   "metadata": {},
   "outputs": [
    {
     "name": "stdout",
     "output_type": "stream",
     "text": [
      "k-NN F1 Score:  0.6435380665071087 k-NN Accuracy 0.6215538847117794\n",
      "CPU times: user 261 ms, sys: 8.46 ms, total: 270 ms\n",
      "Wall time: 282 ms\n"
     ]
    }
   ],
   "source": [
    "%%time\n",
    "knn = KNeighborsClassifier(n_neighbors=1)\n",
    "f1_1, acc_1 = dataframe(df_new, 5, knn,  corr_index, target_index)\n",
    "print(\"k-NN F1 Score: \", f1_1, \"k-NN Accuracy\", acc_1)"
   ]
  },
  {
   "cell_type": "markdown",
   "metadata": {},
   "source": [
    "### k-NN Model (N=5)"
   ]
  },
  {
   "cell_type": "code",
   "execution_count": 441,
   "metadata": {
    "scrolled": true
   },
   "outputs": [
    {
     "name": "stdout",
     "output_type": "stream",
     "text": [
      "k-NN F1 Score:  0.6630076746146054 k-NN Accuracy 0.6506265664160401\n",
      "CPU times: user 275 ms, sys: 13.7 ms, total: 288 ms\n",
      "Wall time: 301 ms\n"
     ]
    }
   ],
   "source": [
    "%%time\n",
    "knn = KNeighborsClassifier(n_neighbors=5)\n",
    "f1_5, acc_5 = dataframe(df_new, 5, knn,  corr_index, target_index)\n",
    "print(\"k-NN F1 Score: \", f1_5, \"k-NN Accuracy\", acc_5)"
   ]
  },
  {
   "cell_type": "markdown",
   "metadata": {},
   "source": [
    "### Best k-NN model"
   ]
  },
  {
   "cell_type": "code",
   "execution_count": 442,
   "metadata": {},
   "outputs": [
    {
     "name": "stdout",
     "output_type": "stream",
     "text": [
      "Best F1-Score (k=1) 0.6435380665071087 and Best Accuracy (k=1) 0.6215538847117794\n"
     ]
    }
   ],
   "source": [
    "print(\"Best F1-Score (k=1)\",f1_1,\"and Best Accuracy (k=1)\",acc_1 )"
   ]
  },
  {
   "cell_type": "markdown",
   "metadata": {},
   "source": [
    "### 3.2 Logistic Regression"
   ]
  },
  {
   "cell_type": "code",
   "execution_count": 443,
   "metadata": {},
   "outputs": [
    {
     "name": "stdout",
     "output_type": "stream",
     "text": [
      "Logistic Regression F1 Score:  0.5333048224948369 Logistic Regression Accuracy 0.5012531328320803\n",
      "CPU times: user 234 ms, sys: 95.4 ms, total: 330 ms\n",
      "Wall time: 421 ms\n"
     ]
    }
   ],
   "source": [
    "%%time\n",
    "lr = LogisticRegression()\n",
    "f1_lr, acc_lr = dataframe(df_new, 5, lr,  corr_index, target_index)\n",
    "print(\"Logistic Regression F1 Score: \", f1_lr, \"Logistic Regression Accuracy\", acc_lr)"
   ]
  },
  {
   "cell_type": "markdown",
   "metadata": {},
   "source": [
    "### 3.3 Support Vector Machine (kernal --> linear)"
   ]
  },
  {
   "cell_type": "code",
   "execution_count": 444,
   "metadata": {},
   "outputs": [
    {
     "name": "stdout",
     "output_type": "stream",
     "text": [
      "SVM Linear kernal F1 Score:  0.5299730523090227 SVM Linear kernal Accuracy 0.500250626566416\n",
      "CPU times: user 167 ms, sys: 12.9 ms, total: 180 ms\n",
      "Wall time: 204 ms\n"
     ]
    }
   ],
   "source": [
    "%%time\n",
    "svclassifier_linear = SVC(kernel='linear')\n",
    "f1_linear, acc_linear = dataframe(df_new, 5, svclassifier_linear,  corr_index, target_index)\n",
    "print(\"SVM Linear kernal F1 Score: \", f1_linear, \"SVM Linear kernal Accuracy\", acc_linear)"
   ]
  },
  {
   "cell_type": "markdown",
   "metadata": {},
   "source": [
    "### Support Vector Machine (kernal --> polynomial (degree 1,2,3,4))"
   ]
  },
  {
   "cell_type": "code",
   "execution_count": 445,
   "metadata": {},
   "outputs": [
    {
     "name": "stdout",
     "output_type": "stream",
     "text": [
      "SVM polynomial 1 kernal F1 Score:  0.6847697224105929 SVM polynomial 1 kernal Accuracy 0.66265664160401\n",
      "CPU times: user 191 ms, sys: 17 ms, total: 208 ms\n",
      "Wall time: 236 ms\n"
     ]
    }
   ],
   "source": [
    "%%time\n",
    "svclassifier_poly1 = SVC(kernel='poly', degree=1)\n",
    "f1_poly1, acc_poly1 = dataframe(df_new, 5, svclassifier_poly1,  corr_index, target_index)\n",
    "print(\"SVM polynomial 1 kernal F1 Score: \", f1_poly1, \"SVM polynomial 1 kernal Accuracy\", acc_poly1)"
   ]
  },
  {
   "cell_type": "code",
   "execution_count": 447,
   "metadata": {},
   "outputs": [
    {
     "name": "stdout",
     "output_type": "stream",
     "text": [
      "SVM polynomial 2 kernal F1 Score:  0.5472701118612288 SVM polynomial 2 kernal Accuracy 0.5177944862155389\n",
      "CPU times: user 165 ms, sys: 5.74 ms, total: 171 ms\n",
      "Wall time: 179 ms\n"
     ]
    }
   ],
   "source": [
    "%%time\n",
    "svclassifier_poly2 = SVC(kernel='poly', degree=2)\n",
    "f1_poly2, acc_poly2 = dataframe(df_new, 5, svclassifier_poly2,  corr_index, target_index)\n",
    "print(\"SVM polynomial 2 kernal F1 Score: \", f1_poly2, \"SVM polynomial 2 kernal Accuracy\", acc_poly2)"
   ]
  },
  {
   "cell_type": "code",
   "execution_count": 448,
   "metadata": {},
   "outputs": [
    {
     "name": "stdout",
     "output_type": "stream",
     "text": [
      "SVM polynomial 3 kernal F1 Score:  0.5232018941690986 SVM polynomial 3 kernal Accuracy 0.4957393483709273\n",
      "CPU times: user 165 ms, sys: 7.8 ms, total: 173 ms\n",
      "Wall time: 178 ms\n"
     ]
    }
   ],
   "source": [
    "%%time\n",
    "svclassifier_poly3 = SVC(kernel='poly', degree=3)\n",
    "f1_poly3, acc_poly3 = dataframe(df_new, 5, svclassifier_poly3,  corr_index, target_index)\n",
    "print(\"SVM polynomial 3 kernal F1 Score: \", f1_poly3, \"SVM polynomial 3 kernal Accuracy\", acc_poly3)"
   ]
  },
  {
   "cell_type": "code",
   "execution_count": 449,
   "metadata": {},
   "outputs": [
    {
     "name": "stdout",
     "output_type": "stream",
     "text": [
      "SVM polynomial 4 kernal F1 Score:  0.5451153871817713 SVM polynomial 4 kernal Accuracy 0.5137844611528821\n",
      "CPU times: user 170 ms, sys: 6.56 ms, total: 176 ms\n",
      "Wall time: 180 ms\n"
     ]
    }
   ],
   "source": [
    "%%time\n",
    "svclassifier_poly4 = SVC(kernel='poly', degree=4)\n",
    "f1_poly4, acc_poly4 = dataframe(df_new, 5, svclassifier_poly4,  corr_index, target_index)\n",
    "print(\"SVM polynomial 4 kernal F1 Score: \", f1_poly4, \"SVM polynomial 4 kernal Accuracy\", acc_poly4)"
   ]
  },
  {
   "cell_type": "markdown",
   "metadata": {},
   "source": [
    "In my opinion, the F1 score, which depends on precision and recall is getting lower as I increase the dimensions because of miss classifications. The Support vector classifier miss classifies the cases based on the threshold value, which might be calculated incorrectly"
   ]
  },
  {
   "cell_type": "markdown",
   "metadata": {},
   "source": [
    "### 3.4 Compare the models"
   ]
  },
  {
   "cell_type": "code",
   "execution_count": 450,
   "metadata": {},
   "outputs": [
    {
     "name": "stdout",
     "output_type": "stream",
     "text": [
      "Best F1-Score (k=1) 0.6435380665071087 and Best Accuracy (k=1) 0.6215538847117794\n",
      "Logistic Regression F1 Score:  0.5333048224948369 Logistic Regression Accuracy 0.5012531328320803\n",
      "SVM Linear kernal F1 Score:  0.5299730523090227 SVM Linear kernal Accuracy 0.500250626566416\n",
      "SVM polynomial 1 kernal F1 Score:  0.6847697224105929 SVM polynomial 1 kernal Accuracy 0.66265664160401\n",
      "SVM polynomial 2 kernal F1 Score:  0.5472701118612288 SVM polynomial 2 kernal Accuracy 0.5177944862155389\n"
     ]
    }
   ],
   "source": [
    "print(\"Best F1-Score (k=1)\",f1_1,\"and Best Accuracy (k=1)\",acc_1 )\n",
    "print(\"Logistic Regression F1 Score: \", f1_lr, \"Logistic Regression Accuracy\", acc_lr)\n",
    "print(\"SVM Linear kernal F1 Score: \", f1_linear, \"SVM Linear kernal Accuracy\", acc_linear)\n",
    "print(\"SVM polynomial 1 kernal F1 Score: \", f1_poly1, \"SVM polynomial 1 kernal Accuracy\", acc_poly1)\n",
    "print(\"SVM polynomial 2 kernal F1 Score: \", f1_poly2, \"SVM polynomial 2 kernal Accuracy\", acc_poly2)"
   ]
  },
  {
   "cell_type": "markdown",
   "metadata": {},
   "source": [
    "The best accuracy is given by SVM with a polynomial 1. The accuracy is 0.68\n",
    "The best F1 score is given by SVM with a polynomial 1. The F1 score is 0.66\n",
    "In terms of running time, Logistic regression took the most time (total: 421 ms), and the least time was taken by SVM Polynomial (3) kernel (total: 178 ms). Generally k-NN models took more time, and SVM models took the least time. It could be because SVM models calculate relationships AS IF they are in the higher dimension, but do not actually transform the data into a higher dimension. "
   ]
  },
  {
   "cell_type": "markdown",
   "metadata": {},
   "source": [
    "If I could pick up one model, I would pick up SVM with a linear kernel. It has the best accuracy and F1 score. Also, it taken less computation time as compared to other models. "
   ]
  },
  {
   "cell_type": "markdown",
   "metadata": {},
   "source": [
    "# 4. How large a role does country play?"
   ]
  },
  {
   "cell_type": "markdown",
   "metadata": {},
   "source": [
    "##### Best model: SVM with linear kernel"
   ]
  },
  {
   "cell_type": "code",
   "execution_count": 410,
   "metadata": {},
   "outputs": [],
   "source": [
    "# Making a copy of the original dataframe\n",
    "df_countryrole = df_new.copy()"
   ]
  },
  {
   "cell_type": "code",
   "execution_count": 453,
   "metadata": {
    "scrolled": true
   },
   "outputs": [],
   "source": [
    "# Dropping the 'country' column and combining dummy variables with the main dataframe\n",
    "df_country = df_countryrole.drop(columns=['country'], axis=1)\n",
    "df_countrydummies = pd.concat([data_c, df_country], axis=1, sort=False)"
   ]
  },
  {
   "cell_type": "markdown",
   "metadata": {},
   "source": [
    "##### Using all countries as dummy variable"
   ]
  },
  {
   "cell_type": "code",
   "execution_count": 458,
   "metadata": {},
   "outputs": [
    {
     "name": "stdout",
     "output_type": "stream",
     "text": [
      "SVM (all countries) Linear kernal F1 Score:  0.5755776094732182 SVM (all countries) Linear kernal Accuracy 0.668420388594499\n",
      "CPU times: user 2.48 s, sys: 400 ms, total: 2.88 s\n",
      "Wall time: 3.15 s\n"
     ]
    }
   ],
   "source": [
    "%%time\n",
    "svclassifier_linear_all = SVC(kernel='linear')\n",
    "f1_linear_all, acc_linear_all = dataframe(df_countrydummies, 5, svclassifier_linear_all,  corr_index, target_index)\n",
    "print(\"SVM (all countries) Linear kernal F1 Score: \", f1_linear_all, \"SVM (all countries) Linear kernal Accuracy\", acc_linear_all)"
   ]
  },
  {
   "cell_type": "markdown",
   "metadata": {},
   "source": [
    "##### Without using any country"
   ]
  },
  {
   "cell_type": "code",
   "execution_count": 459,
   "metadata": {},
   "outputs": [
    {
     "name": "stdout",
     "output_type": "stream",
     "text": [
      "SVM (no country) Linear kernal F1 Score:  0.5750050379300623      SVM (no country) Linear kernal Accuracy 0.668710572798385\n",
      "CPU times: user 3.21 s, sys: 243 ms, total: 3.46 s\n",
      "Wall time: 3.6 s\n"
     ]
    }
   ],
   "source": [
    "%%time\n",
    "svclassifier_linear_nc = SVC(kernel='linear')\n",
    "f1_linear_nc, acc_linear_nc = dataframe(df_countrydummies, 10, svclassifier_linear_nc,  corr_index, target_index)\n",
    "print(\"SVM (no country) Linear kernal F1 Score: \", f1_linear_nc, \"     SVM (no country) Linear kernal Accuracy\", acc_linear_nc)"
   ]
  },
  {
   "cell_type": "markdown",
   "metadata": {},
   "source": [
    "The country variable has no significant effect on improving the accuracy and F1 score of the model. The only noticable effect is in the run time of the model. This is because of removing the variables from the dataframe that is passed in the cross validation function. "
   ]
  },
  {
   "cell_type": "code",
   "execution_count": null,
   "metadata": {},
   "outputs": [],
   "source": []
  }
 ],
 "metadata": {
  "kernelspec": {
   "display_name": "Python 3",
   "language": "python",
   "name": "python3"
  },
  "language_info": {
   "codemirror_mode": {
    "name": "ipython",
    "version": 3
   },
   "file_extension": ".py",
   "mimetype": "text/x-python",
   "name": "python",
   "nbconvert_exporter": "python",
   "pygments_lexer": "ipython3",
   "version": "3.7.4"
  }
 },
 "nbformat": 4,
 "nbformat_minor": 2
}
